{
 "cells": [
  {
   "cell_type": "code",
   "execution_count": 39,
   "metadata": {},
   "outputs": [],
   "source": [
    "import pandas as pd"
   ]
  },
  {
   "cell_type": "code",
   "execution_count": 40,
   "metadata": {},
   "outputs": [],
   "source": [
    "import numpy as np"
   ]
  },
  {
   "cell_type": "code",
   "execution_count": 41,
   "metadata": {},
   "outputs": [],
   "source": [
    "import glob"
   ]
  },
  {
   "cell_type": "code",
   "execution_count": 42,
   "metadata": {},
   "outputs": [],
   "source": [
    "path = \"/Users/salv/Documents/salida_WRF/UNAM/\""
   ]
  },
  {
   "cell_type": "code",
   "execution_count": 43,
   "metadata": {},
   "outputs": [],
   "source": [
    "filelist=glob.glob(path+'InCites*.csv')      \n",
    "filenames=[]"
   ]
  },
  {
   "cell_type": "code",
   "execution_count": 44,
   "metadata": {},
   "outputs": [],
   "source": [
    "for sfile in filelist:\n",
    "    filenames.append(sfile.split('/')[-1])"
   ]
  },
  {
   "cell_type": "code",
   "execution_count": 45,
   "metadata": {},
   "outputs": [
    {
     "data": {
      "text/plain": [
       "['InCites People(Chemistry).csv',\n",
       " 'InCites People ( Geosciences).csv',\n",
       " 'InCites People( Mathematics).csv',\n",
       " 'InCites People( Psychiatry_Psycology).csv',\n",
       " 'InCites People(Biology &Biochemistry).csv',\n",
       " 'InCites People ( Pharmacology &Toxicology).csv',\n",
       " 'InCites People (Engineering).csv',\n",
       " 'InCites People (Multidisciplinary).csv',\n",
       " 'InCites People( Environment_Ecology).csv',\n",
       " 'InCites People( Inmunology).csv',\n",
       " 'InCites People ( Space Science).csv',\n",
       " 'InCites People ( Economics & Business).csv',\n",
       " 'InCites People ( Molecular Biology &Genetics).csv',\n",
       " 'InCites People ( Neuroscience & Behavior).csv',\n",
       " 'InCites People( Agriculture).csv',\n",
       " 'InCites People( Computer Science).csv',\n",
       " 'InCites People(Plant and Animal Science).csv',\n",
       " 'InCites People (Social Science).csv',\n",
       " 'InCites People(Physics).csv',\n",
       " 'InCites People(Clinical Medicine).csv',\n",
       " 'InCites People ( Microbiology).csv',\n",
       " 'InCites People (Material Science).csv']"
      ]
     },
     "execution_count": 45,
     "metadata": {},
     "output_type": "execute_result"
    }
   ],
   "source": [
    "filenames"
   ]
  },
  {
   "cell_type": "code",
   "execution_count": 47,
   "metadata": {},
   "outputs": [
    {
     "data": {
      "text/plain": [
       "['Chemistry',\n",
       " ' Geosciences',\n",
       " ' Mathematics',\n",
       " ' Psychiatry_Psycology',\n",
       " 'Biology &Biochemistry',\n",
       " ' Pharmacology &Toxicology',\n",
       " 'Engineering',\n",
       " 'Multidisciplinary',\n",
       " ' Environment_Ecology',\n",
       " ' Inmunology',\n",
       " ' Space Science',\n",
       " ' Economics & Business',\n",
       " ' Molecular Biology &Genetics',\n",
       " ' Neuroscience & Behavior',\n",
       " ' Agriculture',\n",
       " ' Computer Science',\n",
       " 'Plant and Animal Science',\n",
       " 'Social Science',\n",
       " 'Physics',\n",
       " 'Clinical Medicine',\n",
       " ' Microbiology',\n",
       " 'Material Science']"
      ]
     },
     "execution_count": 47,
     "metadata": {},
     "output_type": "execute_result"
    }
   ],
   "source": [
    "area = []\n",
    "for filename in filenames:\n",
    "    area.append(filename.split('(')[-1].split(')')[0])\n",
    "area"
   ]
  },
  {
   "cell_type": "code",
   "execution_count": 48,
   "metadata": {},
   "outputs": [],
   "source": [
    "frames = []\n",
    "for i,nombrearchivo in enumerate(filenames):\n",
    "    data1 = pd.read_csv(nombrearchivo)\n",
    "    data1 = data1[0:-8]\n",
    "    data1[\"Area\"] = np.array([area[i]]*data1.shape[0])\n",
    "    frames.append(data1)\n",
    "result = pd.concat(frames, sort = False)"
   ]
  },
  {
   "cell_type": "code",
   "execution_count": 49,
   "metadata": {},
   "outputs": [],
   "source": [
    "result.to_csv('cientificosunam.csv')"
   ]
  },
  {
   "cell_type": "code",
   "execution_count": 50,
   "metadata": {},
   "outputs": [
    {
     "data": {
      "text/html": [
       "<div>\n",
       "<style scoped>\n",
       "    .dataframe tbody tr th:only-of-type {\n",
       "        vertical-align: middle;\n",
       "    }\n",
       "\n",
       "    .dataframe tbody tr th {\n",
       "        vertical-align: top;\n",
       "    }\n",
       "\n",
       "    .dataframe thead th {\n",
       "        text-align: right;\n",
       "    }\n",
       "</style>\n",
       "<table border=\"1\" class=\"dataframe\">\n",
       "  <thead>\n",
       "    <tr style=\"text-align: right;\">\n",
       "      <th></th>\n",
       "      <th>Name</th>\n",
       "      <th>Rank</th>\n",
       "      <th>Affiliation</th>\n",
       "      <th>Web of Science Documents</th>\n",
       "      <th>% Docs Cited</th>\n",
       "      <th>Times Cited</th>\n",
       "      <th>Category Normalized Citation Impact</th>\n",
       "      <th>Area</th>\n",
       "    </tr>\n",
       "  </thead>\n",
       "  <tbody>\n",
       "    <tr>\n",
       "      <th>0</th>\n",
       "      <td>Flores-Alamo, Marcos</td>\n",
       "      <td>1.0</td>\n",
       "      <td>Universidad Nacional Autonoma de Mexico</td>\n",
       "      <td>121.0</td>\n",
       "      <td>76.033058</td>\n",
       "      <td>652.0</td>\n",
       "      <td>0.488663</td>\n",
       "      <td>Chemistry</td>\n",
       "    </tr>\n",
       "    <tr>\n",
       "      <th>1</th>\n",
       "      <td>Martinez, ANA</td>\n",
       "      <td>2.0</td>\n",
       "      <td>Universidad Nacional Autonoma de Mexico</td>\n",
       "      <td>80.0</td>\n",
       "      <td>91.250000</td>\n",
       "      <td>1064.0</td>\n",
       "      <td>0.964554</td>\n",
       "      <td>Chemistry</td>\n",
       "    </tr>\n",
       "    <tr>\n",
       "      <th>2</th>\n",
       "      <td>Farfan, Norberto</td>\n",
       "      <td>3.0</td>\n",
       "      <td>Universidad Nacional Autonoma de Mexico</td>\n",
       "      <td>78.0</td>\n",
       "      <td>82.051282</td>\n",
       "      <td>808.0</td>\n",
       "      <td>0.786392</td>\n",
       "      <td>Chemistry</td>\n",
       "    </tr>\n",
       "    <tr>\n",
       "      <th>3</th>\n",
       "      <td>Hernandez-Ortega, Simon</td>\n",
       "      <td>4.0</td>\n",
       "      <td>Universidad Nacional Autonoma de Mexico</td>\n",
       "      <td>71.0</td>\n",
       "      <td>76.056338</td>\n",
       "      <td>352.0</td>\n",
       "      <td>0.435687</td>\n",
       "      <td>Chemistry</td>\n",
       "    </tr>\n",
       "    <tr>\n",
       "      <th>4</th>\n",
       "      <td>Pfeiffer, Heriberto</td>\n",
       "      <td>5.0</td>\n",
       "      <td>Universidad Nacional Autonoma de Mexico</td>\n",
       "      <td>68.0</td>\n",
       "      <td>86.764706</td>\n",
       "      <td>1087.0</td>\n",
       "      <td>1.142453</td>\n",
       "      <td>Chemistry</td>\n",
       "    </tr>\n",
       "  </tbody>\n",
       "</table>\n",
       "</div>"
      ],
      "text/plain": [
       "                      Name  Rank                              Affiliation  \\\n",
       "0     Flores-Alamo, Marcos   1.0  Universidad Nacional Autonoma de Mexico   \n",
       "1            Martinez, ANA   2.0  Universidad Nacional Autonoma de Mexico   \n",
       "2         Farfan, Norberto   3.0  Universidad Nacional Autonoma de Mexico   \n",
       "3  Hernandez-Ortega, Simon   4.0  Universidad Nacional Autonoma de Mexico   \n",
       "4      Pfeiffer, Heriberto   5.0  Universidad Nacional Autonoma de Mexico   \n",
       "\n",
       "   Web of Science Documents  % Docs Cited  Times Cited  \\\n",
       "0                     121.0     76.033058        652.0   \n",
       "1                      80.0     91.250000       1064.0   \n",
       "2                      78.0     82.051282        808.0   \n",
       "3                      71.0     76.056338        352.0   \n",
       "4                      68.0     86.764706       1087.0   \n",
       "\n",
       "   Category Normalized Citation Impact       Area  \n",
       "0                             0.488663  Chemistry  \n",
       "1                             0.964554  Chemistry  \n",
       "2                             0.786392  Chemistry  \n",
       "3                             0.435687  Chemistry  \n",
       "4                             1.142453  Chemistry  "
      ]
     },
     "execution_count": 50,
     "metadata": {},
     "output_type": "execute_result"
    }
   ],
   "source": [
    "result.head()"
   ]
  },
  {
   "cell_type": "code",
   "execution_count": 51,
   "metadata": {},
   "outputs": [],
   "source": [
    "newresult = result[['Name', 'Area']].copy()"
   ]
  },
  {
   "cell_type": "code",
   "execution_count": 52,
   "metadata": {},
   "outputs": [],
   "source": [
    "newresult.to_csv('cientificosunamII.csv')"
   ]
  },
  {
   "cell_type": "code",
   "execution_count": 53,
   "metadata": {},
   "outputs": [
    {
     "data": {
      "text/html": [
       "<div>\n",
       "<style scoped>\n",
       "    .dataframe tbody tr th:only-of-type {\n",
       "        vertical-align: middle;\n",
       "    }\n",
       "\n",
       "    .dataframe tbody tr th {\n",
       "        vertical-align: top;\n",
       "    }\n",
       "\n",
       "    .dataframe thead th {\n",
       "        text-align: right;\n",
       "    }\n",
       "</style>\n",
       "<table border=\"1\" class=\"dataframe\">\n",
       "  <thead>\n",
       "    <tr style=\"text-align: right;\">\n",
       "      <th></th>\n",
       "      <th>Name</th>\n",
       "      <th>Area</th>\n",
       "    </tr>\n",
       "  </thead>\n",
       "  <tbody>\n",
       "    <tr>\n",
       "      <th>2025</th>\n",
       "      <td>Trejo-Luna, R.</td>\n",
       "      <td>Material Science</td>\n",
       "    </tr>\n",
       "    <tr>\n",
       "      <th>2026</th>\n",
       "      <td>Solis-Cambero, Ana L.</td>\n",
       "      <td>Material Science</td>\n",
       "    </tr>\n",
       "    <tr>\n",
       "      <th>2027</th>\n",
       "      <td>Mendoza, Carlos I.</td>\n",
       "      <td>Material Science</td>\n",
       "    </tr>\n",
       "    <tr>\n",
       "      <th>2028</th>\n",
       "      <td>Flores, Argelia Almaguer</td>\n",
       "      <td>Material Science</td>\n",
       "    </tr>\n",
       "    <tr>\n",
       "      <th>2029</th>\n",
       "      <td>Alberto Rodriguez-Guadarrama, Luis</td>\n",
       "      <td>Material Science</td>\n",
       "    </tr>\n",
       "  </tbody>\n",
       "</table>\n",
       "</div>"
      ],
      "text/plain": [
       "                                    Name              Area\n",
       "2025                      Trejo-Luna, R.  Material Science\n",
       "2026               Solis-Cambero, Ana L.  Material Science\n",
       "2027                  Mendoza, Carlos I.  Material Science\n",
       "2028            Flores, Argelia Almaguer  Material Science\n",
       "2029  Alberto Rodriguez-Guadarrama, Luis  Material Science"
      ]
     },
     "execution_count": 53,
     "metadata": {},
     "output_type": "execute_result"
    }
   ],
   "source": [
    "newresult.tail()"
   ]
  },
  {
   "cell_type": "code",
   "execution_count": null,
   "metadata": {},
   "outputs": [],
   "source": []
  },
  {
   "cell_type": "code",
   "execution_count": null,
   "metadata": {},
   "outputs": [],
   "source": []
  },
  {
   "cell_type": "code",
   "execution_count": null,
   "metadata": {},
   "outputs": [],
   "source": []
  }
 ],
 "metadata": {
  "kernelspec": {
   "display_name": "Python 3",
   "language": "python",
   "name": "python3"
  },
  "language_info": {
   "codemirror_mode": {
    "name": "ipython",
    "version": 3
   },
   "file_extension": ".py",
   "mimetype": "text/x-python",
   "name": "python",
   "nbconvert_exporter": "python",
   "pygments_lexer": "ipython3",
   "version": "3.7.0"
  }
 },
 "nbformat": 4,
 "nbformat_minor": 2
}
